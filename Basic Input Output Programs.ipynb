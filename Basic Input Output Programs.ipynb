{
 "cells": [
  {
   "cell_type": "markdown",
   "id": "575f80f8",
   "metadata": {},
   "source": [
    "### 1. Write a program to introduce yourself"
   ]
  },
  {
   "cell_type": "code",
   "execution_count": 10,
   "id": "bc564fd4",
   "metadata": {},
   "outputs": [
    {
     "name": "stdout",
     "output_type": "stream",
     "text": [
      "Hello,\n",
      " My name is Devendra Suresh Gavande.\n",
      " i'm Civil Engineer.\n",
      " and currentely i'm leaving in Mumbai.\n"
     ]
    }
   ],
   "source": [
    "print('Hello,\\n My name is Devendra Suresh Gavande.\\n i\\'m Civil Engineer.\\n and currentely i\\'m leaving in Mumbai.')"
   ]
  },
  {
   "cell_type": "markdown",
   "id": "58efa17d",
   "metadata": {},
   "source": [
    "### 2.Write a program to perform the following operations\n",
    "\n",
    "#### Addition\n",
    "#### Subtraction\n",
    "#### Multiplication\n",
    "#### Division\n",
    "#### Modulus\n",
    "#### Exponential"
   ]
  },
  {
   "cell_type": "code",
   "execution_count": 11,
   "id": "925babe3",
   "metadata": {},
   "outputs": [
    {
     "name": "stdout",
     "output_type": "stream",
     "text": [
      "enter the 1 num30\n",
      "enter the 2 num15\n",
      "Sum of two number is 45\n",
      "Substraction of two number is 15\n",
      "Division of two number is 2.0\n",
      "Modulus of two number is 0\n",
      "Multiplication of two number is 14348907000000000000000\n"
     ]
    }
   ],
   "source": [
    "x=int(input('enter the 1 num'))\n",
    "y=int(input('enter the 2 num'))\n",
    "\n",
    "add=x+y\n",
    "sub=x-y\n",
    "div=x/y\n",
    "modulus=x%y\n",
    "exp=x**y\n",
    "print('Sum of two number is',add)\n",
    "print('Substraction of two number is',sub)\n",
    "print('Division of two number is',div)\n",
    "print('Modulus of two number is',modulus)\n",
    "print('Multiplication of two number is',exp)"
   ]
  },
  {
   "cell_type": "markdown",
   "id": "8f00b491",
   "metadata": {},
   "source": [
    "### 3.Write a program to swap two numbers"
   ]
  },
  {
   "cell_type": "code",
   "execution_count": 12,
   "id": "f5b2057b",
   "metadata": {},
   "outputs": [
    {
     "name": "stdout",
     "output_type": "stream",
     "text": [
      "Enter the first num15\n",
      "Enter the Secoend num10\n",
      "10\n",
      "15\n"
     ]
    }
   ],
   "source": [
    "x=int(input('Enter the first num'))\n",
    "y=int(input('Enter the Secoend num'))\n",
    "z=x\n",
    "x=y\n",
    "y=z\n",
    "print(x)\n",
    "print(y)"
   ]
  },
  {
   "cell_type": "markdown",
   "id": "7d5ae5fb",
   "metadata": {},
   "source": [
    "### 4.Write a program to swap two numbers without using third variable"
   ]
  },
  {
   "cell_type": "code",
   "execution_count": 13,
   "id": "d328958c",
   "metadata": {},
   "outputs": [
    {
     "name": "stdout",
     "output_type": "stream",
     "text": [
      "Enter the first num20\n",
      "Enter the Second num10\n",
      "before swapping 20 10\n",
      "after swapping 10 20\n"
     ]
    }
   ],
   "source": [
    "x=int(input('Enter the first num'))\n",
    "y=int(input('Enter the Second num'))\n",
    "print('before swapping',x,y)\n",
    "x=x+y\n",
    "y=x-y\n",
    "x=x-y\n",
    "print('after swapping',x,y)"
   ]
  },
  {
   "cell_type": "markdown",
   "id": "ad806e05",
   "metadata": {},
   "source": [
    "### 5.Calculate simple Interest"
   ]
  },
  {
   "cell_type": "code",
   "execution_count": 17,
   "id": "d845f3fe",
   "metadata": {},
   "outputs": [
    {
     "name": "stdout",
     "output_type": "stream",
     "text": [
      "enter the principle 10000\n",
      "enter the Rate of interest 10\n",
      "enter the Time(in years) 5\n",
      "The simple Interest is  5000.0\n"
     ]
    }
   ],
   "source": [
    "A=int(input('enter the principle '))\n",
    "B=int(input('enter the Rate of interest '))\n",
    "T=int(input('enter the Time(in years) '))\n",
    "si=((A * B * T)/100)\n",
    "print('The simple Interest is ',si)"
   ]
  },
  {
   "cell_type": "markdown",
   "id": "a7f9da1d",
   "metadata": {},
   "source": [
    "### 6.Average of 5 numbers"
   ]
  },
  {
   "cell_type": "code",
   "execution_count": 18,
   "id": "a2f8e2cf",
   "metadata": {},
   "outputs": [
    {
     "name": "stdout",
     "output_type": "stream",
     "text": [
      "enter the first num 10\n",
      "enter the enter the second num 20\n",
      "enter the Third num 30\n",
      "enter the fourth num 40\n",
      "enter the fifth num 50\n",
      "30.0\n"
     ]
    }
   ],
   "source": [
    "first_num=int(input('enter the first num '))\n",
    "second_num=int(input('enter the enter the second num '))\n",
    "Third_num=int(input('enter the Third num '))\n",
    "fourth_num=int(input('enter the fourth num '))\n",
    "fivth_num=int(input('enter the fifth num '))\n",
    "avg=(first_num+second_num+Third_num+fourth_num+fivth_num)/5\n",
    "print(avg)"
   ]
  },
  {
   "cell_type": "markdown",
   "id": "7e8e02f6",
   "metadata": {},
   "source": [
    "### 7.Discriminant of Quadratic Equation"
   ]
  },
  {
   "cell_type": "code",
   "execution_count": 21,
   "id": "83de1632",
   "metadata": {},
   "outputs": [
    {
     "name": "stdout",
     "output_type": "stream",
     "text": [
      "enter the a 20\n",
      "enter the b 30\n",
      "enter the c 10\n",
      "100\n"
     ]
    }
   ],
   "source": [
    "a=int(input('enter the a '))\n",
    "b=int(input('enter the b '))\n",
    "c=int(input('enter the c '))\n",
    "z=(b**2)-(4*a*c)\n",
    "print(z)"
   ]
  },
  {
   "cell_type": "markdown",
   "id": "f28a0a2f",
   "metadata": {},
   "source": [
    "### 8.Calculate areas of following shapes\n",
    "\n",
    "#### Rectangle\n",
    "#### Square\n",
    "#### Triangle\n",
    "####  Circle"
   ]
  },
  {
   "cell_type": "code",
   "execution_count": 31,
   "id": "6ba4c90e",
   "metadata": {},
   "outputs": [
    {
     "name": "stdout",
     "output_type": "stream",
     "text": [
      "enter the side20\n",
      "Area of Square is 400\n"
     ]
    }
   ],
   "source": [
    "if a==1:\n",
    "    w=int(input('enter the width'))\n",
    "    h=int(input('enter the height'))\n",
    "    area=w*h\n",
    "    print('Area of Rectangle is',area)\n",
    "    \n",
    "if a==2:\n",
    "\n",
    "    side=int(input('enter the side'))\n",
    "    Area=side*side\n",
    "    print('Area of Square is',Area)\n",
    "\n",
    "if a==3:\n",
    "    \n",
    "    b=int(input('enter the breadth'))\n",
    "    h=int(input('enter the height'))\n",
    "    a=1/2*b*h\n",
    "    print('Area of Triangle is',a)\n",
    "    \n",
    "if a==4:\n",
    "    r=int(input('enter the radius'))\n",
    "    pi=3.14\n",
    "    a=pi*(r)**2\n",
    "    print('Area of Circle is',a)\n"
   ]
  },
  {
   "cell_type": "markdown",
   "id": "49b21e43",
   "metadata": {},
   "source": [
    "### 9.write a program to calculate net salary where Basic salary is enter by user and 5% DA , 7% HRA , 3% PF"
   ]
  },
  {
   "cell_type": "markdown",
   "id": "675ae1f4",
   "metadata": {},
   "source": [
    "basic_salary=int(input(\"enter the basic salary \"))\n",
    "hra=basic_salary*0.07\n",
    "da=basic_salary*0.05\n",
    "pf=basic_salary*0.03\n",
    "net_salary=(basic_salary+hra+da)-pf\n",
    "print('Net salary is',net_salary)"
   ]
  },
  {
   "cell_type": "markdown",
   "id": "a74028b9",
   "metadata": {},
   "source": [
    "### 10.Calculate power of number"
   ]
  },
  {
   "cell_type": "code",
   "execution_count": 28,
   "id": "52174db4",
   "metadata": {},
   "outputs": [
    {
     "name": "stdout",
     "output_type": "stream",
     "text": [
      "enter the number 2\n",
      "enter the power 4\n",
      "2 by the power of 4 is 16\n"
     ]
    }
   ],
   "source": [
    "a=int(input('enter the number '))\n",
    "b=int(input('enter the power '))\n",
    "z=a**b\n",
    "print(a,'by the power of',b,'is',z)"
   ]
  },
  {
   "cell_type": "markdown",
   "id": "f989257e",
   "metadata": {},
   "source": [
    "### 11.Check the version of python using"
   ]
  },
  {
   "cell_type": "code",
   "execution_count": 29,
   "id": "ef8fe152",
   "metadata": {},
   "outputs": [
    {
     "name": "stdout",
     "output_type": "stream",
     "text": [
      "3.9.12\n"
     ]
    }
   ],
   "source": [
    "from platform import python_version\n",
    "print(python_version())"
   ]
  }
 ],
 "metadata": {
  "kernelspec": {
   "display_name": "Python 3 (ipykernel)",
   "language": "python",
   "name": "python3"
  },
  "language_info": {
   "codemirror_mode": {
    "name": "ipython",
    "version": 3
   },
   "file_extension": ".py",
   "mimetype": "text/x-python",
   "name": "python",
   "nbconvert_exporter": "python",
   "pygments_lexer": "ipython3",
   "version": "3.9.12"
  }
 },
 "nbformat": 4,
 "nbformat_minor": 5
}
